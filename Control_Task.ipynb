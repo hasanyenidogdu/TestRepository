{
  "nbformat": 4,
  "nbformat_minor": 0,
  "metadata": {
    "colab": {
      "name": "Control-Task.ipynb",
      "provenance": [],
      "collapsed_sections": [],
      "authorship_tag": "ABX9TyPgDPx65plgBzodaaZIbdU+",
      "include_colab_link": true
    },
    "kernelspec": {
      "name": "python3",
      "display_name": "Python 3"
    },
    "language_info": {
      "name": "python"
    }
  },
  "cells": [
    {
      "cell_type": "markdown",
      "metadata": {
        "id": "view-in-github",
        "colab_type": "text"
      },
      "source": [
        "<a href=\"https://colab.research.google.com/github/hasanyenidogdu/TestRepository/blob/master/Control_Task.ipynb\" target=\"_parent\"><img src=\"https://colab.research.google.com/assets/colab-badge.svg\" alt=\"Open In Colab\"/></a>"
      ]
    },
    {
      "cell_type": "code",
      "metadata": {
        "colab": {
          "base_uri": "https://localhost:8080/"
        },
        "id": "zPVV8pqzWn4-",
        "outputId": "60887fdc-c90d-412b-c012-b78353ff57ba"
      },
      "source": [
        "class Student:\n",
        "  def __init__(self, name, surname, student_number, grades, days):\n",
        "    self.name = name\n",
        "    self.surname = surname\n",
        "    self.student_number = student_number\n",
        "    self.grades = grades\n",
        "    self.days = days\n",
        "\n",
        "  def attend(self):\n",
        "    print(self.name,\"attending\")\n",
        "    while self.days < 0:\n",
        "        self.days += 1\n",
        "\n",
        "  def showInfo(self):\n",
        "    print(\"*-\"*20)\n",
        "    print(\"Student name: \", self.name)\n",
        "    print(\"Student surname: \", self.surname)\n",
        "    print(\"Student number: \", self.student_number)\n",
        "    print(\"Student grades: \", self.grades)\n",
        "    print(\"Student attended days: \", self.days)\n",
        "    print(\"*-\"*20)\n",
        "    if 50 <= self.grades <= 100 and self.days >= 5:\n",
        "        print(f'{self.name} {self.surname} PASSED the class with {self.grades} points {self.days} attended days. CONGRATULATIONS..')\n",
        "    else:\n",
        "        print(f'{self.name} {self.surname} FAİLED the class with {self.grades} points {self.days} attended days.')\n",
        "\n",
        "\n",
        "a = Student(\"Hasan\", \"Yenidogdu\", 4, 95, 8)\n",
        "a.attend()\n",
        "a.showInfo()\n",
        "print(\"__________________________________________\")\n",
        "print()\n",
        "\n",
        "\n",
        "b = Student(\"John\", \"Doe\", 7, 61, 6)\n",
        "b.attend()\n",
        "b.showInfo()\n",
        "print(\"__________________________________________\")\n",
        "print()\n",
        "\n",
        "\n",
        "c = Student(\"Jessica\", \"Turner\", 5, 49, 10)\n",
        "c.attend()\n",
        "c.showInfo()\n",
        "print(\"__________________________________________\")\n",
        "print()\n"
      ],
      "execution_count": null,
      "outputs": [
        {
          "output_type": "stream",
          "text": [
            "Hasan attending\n",
            "*-*-*-*-*-*-*-*-*-*-*-*-*-*-*-*-*-*-*-*-\n",
            "Student name:  Hasan\n",
            "Student surname:  Yenidogdu\n",
            "Student number:  4\n",
            "Student grades:  95\n",
            "Student attended days:  8\n",
            "*-*-*-*-*-*-*-*-*-*-*-*-*-*-*-*-*-*-*-*-\n",
            "Hasan Yenidogdu PASSED the class with 95 points 8 attended days. CONGRATULATIONS..\n",
            "__________________________________________\n",
            "\n",
            "John attending\n",
            "*-*-*-*-*-*-*-*-*-*-*-*-*-*-*-*-*-*-*-*-\n",
            "Student name:  John\n",
            "Student surname:  Doe\n",
            "Student number:  7\n",
            "Student grades:  61\n",
            "Student attended days:  6\n",
            "*-*-*-*-*-*-*-*-*-*-*-*-*-*-*-*-*-*-*-*-\n",
            "John Doe PASSED the class with 61 points 6 attended days. CONGRATULATIONS..\n",
            "__________________________________________\n",
            "\n",
            "Jessica attending\n",
            "*-*-*-*-*-*-*-*-*-*-*-*-*-*-*-*-*-*-*-*-\n",
            "Student name:  Jessica\n",
            "Student surname:  Turner\n",
            "Student number:  5\n",
            "Student grades:  49\n",
            "Student attended days:  10\n",
            "*-*-*-*-*-*-*-*-*-*-*-*-*-*-*-*-*-*-*-*-\n",
            "Jessica Turner FAİLED the class with 49 points 10 attended days.\n",
            "__________________________________________\n",
            "\n"
          ],
          "name": "stdout"
        }
      ]
    }
  ]
}