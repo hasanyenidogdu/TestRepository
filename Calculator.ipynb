{
  "nbformat": 4,
  "nbformat_minor": 0,
  "metadata": {
    "colab": {
      "name": "Calculator.ipynb",
      "provenance": [],
      "collapsed_sections": [],
      "authorship_tag": "ABX9TyMfraU/dr+SCZcZS3fMez1z",
      "include_colab_link": true
    },
    "kernelspec": {
      "name": "python3",
      "display_name": "Python 3"
    },
    "language_info": {
      "name": "python"
    }
  },
  "cells": [
    {
      "cell_type": "markdown",
      "metadata": {
        "id": "view-in-github",
        "colab_type": "text"
      },
      "source": [
        "<a href=\"https://colab.research.google.com/github/hasanyenidogdu/TestRepository/blob/master/Calculator.ipynb\" target=\"_parent\"><img src=\"https://colab.research.google.com/assets/colab-badge.svg\" alt=\"Open In Colab\"/></a>"
      ]
    },
    {
      "cell_type": "code",
      "metadata": {
        "colab": {
          "base_uri": "https://localhost:8080/"
        },
        "id": "bIQr9SFIp4fJ",
        "outputId": "5e174905-26ca-4686-ee9d-24d7549591e5"
      },
      "source": [
        "# Basic Calculator with Python\n",
        "import sys\n",
        "\n",
        "class Calculator:\n",
        "  \"Project of Basic Calculator\"\n",
        "\n",
        "  def __init__(self, a, b):\n",
        "    \"Initialize Values\"\n",
        "\n",
        "    self.value1 = a\n",
        "    self.value2 = b\n",
        "\n",
        "  def add(self):\n",
        "    \"Addition v1+v2 = Result -> return Result\"\n",
        "    return self.value1 + self.value2\n",
        "\n",
        "  def subt(self):\n",
        "    \"Subtraction v1-v2 = Result -> return Result\"\n",
        "    return self.value1 - self.value2\n",
        "\n",
        "  def multiply(self):\n",
        "    \"Multiplication v1*v2 = Result -> return Result\"\n",
        "    return self.value1 * self.value2\n",
        "\n",
        "  def division(self):\n",
        "    \"Division v1/v2 = Result -> return Result\"\n",
        "    return self.value1 / self.value2\n",
        "\n",
        "print(\"Basic Calculator (with Python)\")\n",
        "print(\"=\"*32)\n",
        "print(\"Addition(1), \\nSubtraction(2), \\nMultiplication(3), \\nDivision(4)\")\n",
        "print(\"_\"*32)\n",
        "print(\"Please enter one of the options\")\n",
        "print(\"_\"*20)\n",
        "selection = input(\"1 - 2 - 3 - 4 \\n\")\n",
        "if selection != \"1\" or \"2\" or \"3\" or \"4\":\n",
        "  print(\"\\n Error! Please enter one of the valid variants\")\n",
        "  \n",
        "\n",
        "v1 = int(input(\"First value = \"))\n",
        "v2 = int(input(\"Second value = \"))\n",
        "\n",
        "basic_calc = Calculator(v1,v2)\n",
        "if selection == \"1\":\n",
        "  add_result = basic_calc.add()\n",
        "  print(\"\\n Addition result : {}\".format(add_result))\n",
        "elif selection == \"2\":\n",
        "  subtraction_result = basic_calc.subt()\n",
        "  print(\"\\n Subtraction result : {}\".format(subtraction_result))\n",
        "elif selection == \"3\":\n",
        "  multiply_result = basic_calc.multiply()\n",
        "  print(\"\\n Multiplication result : {}\".format(multiply_result))\n",
        "elif selection == \"4\":\n",
        "  div_result = basic_calc.division()\n",
        "  print(\"\\n Division result : {}\".format(div_result))\n",
        "else:\n",
        "  print(\"\\n Error! Please enter one of the valid variants\")\n",
        "\n",
        "\n"
      ],
      "execution_count": 1,
      "outputs": [
        {
          "output_type": "stream",
          "text": [
            "Basic Calculator (with Python)\n",
            "================================\n",
            "Addition(1), \n",
            "Subtraction(2), \n",
            "Multiplication(3), \n",
            "Division(4)\n",
            "________________________________\n",
            "Please enter one of the options\n",
            "____________________\n",
            "1 - 2 - 3 - 4 \n",
            "1\n",
            "\n",
            " Error! Please enter one of the valid variants\n",
            "First value = 50\n",
            "Second value = 20\n",
            "\n",
            " Addition result : 70\n"
          ],
          "name": "stdout"
        }
      ]
    }
  ]
}