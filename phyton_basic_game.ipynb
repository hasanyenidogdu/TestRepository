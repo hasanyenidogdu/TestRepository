{
  "nbformat": 4,
  "nbformat_minor": 0,
  "metadata": {
    "colab": {
      "name": "phyton-basic-game.ipynb",
      "provenance": [],
      "collapsed_sections": [],
      "authorship_tag": "ABX9TyOlaF2B7oUjnASN92qJcjSl",
      "include_colab_link": true
    },
    "kernelspec": {
      "name": "python3",
      "display_name": "Python 3"
    },
    "language_info": {
      "name": "python"
    }
  },
  "cells": [
    {
      "cell_type": "markdown",
      "metadata": {
        "id": "view-in-github",
        "colab_type": "text"
      },
      "source": [
        "<a href=\"https://colab.research.google.com/github/hasanyenidogdu/TestRepository/blob/master/phyton_basic_game.ipynb\" target=\"_parent\"><img src=\"https://colab.research.google.com/assets/colab-badge.svg\" alt=\"Open In Colab\"/></a>"
      ]
    },
    {
      "cell_type": "code",
      "metadata": {
        "id": "gVAjIMSTj4du"
      },
      "source": [
        "print(\"Welcome to our basic phyton guess game..\")\n",
        "a = 1\n",
        "while True:\n",
        "  guess = int(input(\"Enter your guess from 1 to 10: \"))\n",
        "  if a==guess:\n",
        "    print(\"You win!\")\n",
        "    break\n",
        "  elif a<guess:\n",
        "    print(\"Bad lucky. It's higher!\")\n",
        "  else:\n",
        "    print(\"Bad lucky. It's lower!\")\n",
        "print(\"Game over!. (Insert coin)\")"
      ],
      "execution_count": null,
      "outputs": []
    }
  ]
}