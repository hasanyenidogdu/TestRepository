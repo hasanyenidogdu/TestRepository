{
  "nbformat": 4,
  "nbformat_minor": 0,
  "metadata": {
    "colab": {
      "name": "Bill-Tip-Calculator.ipynb",
      "provenance": [],
      "collapsed_sections": [],
      "authorship_tag": "ABX9TyNNUiRaYceCQD6pWduA3nzR",
      "include_colab_link": true
    },
    "kernelspec": {
      "name": "python3",
      "display_name": "Python 3"
    },
    "language_info": {
      "name": "python"
    }
  },
  "cells": [
    {
      "cell_type": "markdown",
      "metadata": {
        "id": "view-in-github",
        "colab_type": "text"
      },
      "source": [
        "<a href=\"https://colab.research.google.com/github/hasanyenidogdu/TestRepository/blob/master/Bill_Tip_Calculator.ipynb\" target=\"_parent\"><img src=\"https://colab.research.google.com/assets/colab-badge.svg\" alt=\"Open In Colab\"/></a>"
      ]
    },
    {
      "cell_type": "code",
      "metadata": {
        "colab": {
          "base_uri": "https://localhost:8080/"
        },
        "id": "Ct0UebngaDVi",
        "outputId": "6ed81ccb-7b5f-4389-939c-a987ce28d036"
      },
      "source": [
        "bill = int(input('Enter the bill amount'))\n",
        "tip = 20\n",
        "tiprt = 100\n",
        "bill = bill*tip/tiprt\n",
        "print(float(bill))"
      ],
      "execution_count": 2,
      "outputs": [
        {
          "output_type": "stream",
          "text": [
            "Enter the bill amount500\n",
            "100.0\n"
          ],
          "name": "stdout"
        }
      ]
    }
  ]
}